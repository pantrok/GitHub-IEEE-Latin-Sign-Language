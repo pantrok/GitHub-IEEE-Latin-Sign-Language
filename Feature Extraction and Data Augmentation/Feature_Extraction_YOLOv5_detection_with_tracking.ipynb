{
  "cells": [
    {
      "cell_type": "markdown",
      "metadata": {
        "id": "GYXJ5me4803J"
      },
      "source": [
        "# Open a new session to google drive"
      ]
    },
    {
      "cell_type": "code",
      "execution_count": null,
      "metadata": {
        "id": "BuGb4C6T89e5"
      },
      "outputs": [],
      "source": [
        "from google.colab import drive\n",
        "drive.mount('/content/gdrive')"
      ]
    },
    {
      "cell_type": "markdown",
      "metadata": {
        "id": "XFPJ01lKRR_q"
      },
      "source": [
        "# Inference with YOLOv5 from Hub\n"
      ]
    },
    {
      "cell_type": "code",
      "execution_count": null,
      "metadata": {
        "id": "DHIpCF6RRZAK"
      },
      "outputs": [],
      "source": [
        "def estimate_speed(location1, location2, time, distance_object, frame_width):\n",
        "\tmpp = distance_object * frame_width\n",
        "\td_pixels = math.sqrt(math.pow(location2[0] - location1[0], 2) + math.pow(location2[1] - location1[1], 2))\n",
        "\td_meters = d_pixels * mpp\n",
        "\tspeed = d_meters / time\n",
        "\treturn speed"
      ]
    },
    {
      "cell_type": "code",
      "execution_count": null,
      "metadata": {
        "id": "igmmRByFnXFy"
      },
      "outputs": [],
      "source": [
        "def get_centroid(x1,y1,x2,y2):\n",
        "  c1 = float((x2 + x1) / 2.0)\n",
        "  c2 = float((y2 + y1) / 2.0)\n",
        "  return (c1, c2)"
      ]
    },
    {
      "cell_type": "code",
      "execution_count": null,
      "metadata": {
        "id": "fg8jstOqTLZD"
      },
      "outputs": [],
      "source": [
        "import cv2\n",
        "import torch\n",
        "import time\n",
        "import math\n",
        "from PIL import Image\n",
        "import numpy as np\n",
        "import pandas as pd\n",
        "\n",
        "print(torch.__version__)\n",
        "# Model\n",
        "model = torch.hub.load('ultralytics/yolov5', 'custom', path='/content/gdrive/MyDrive/best28102020.pt', force_reload=True)  # local repo\n",
        "\n",
        "str_video = '01067'\n",
        "\n",
        "input_movie = cv2.VideoCapture('/content/gdrive/My Drive/your_directory/LIBRAS Data/'+ str_video +'.mp4')\n",
        "imgs = []  # batched list of images\n",
        "frame_number = 1\n",
        "FRAME_WINDOW = 3\n",
        "WIDTH_FRAME = 3#Get the width frame from the data read from opencv\n",
        "DISTANCE_DEVICE_TO_PERSON = 1.2 # in meters (LIBRAS)\n",
        "\n",
        "data_rows_list = []\n",
        "\n",
        "#Lists to keep track of relevant data\n",
        "speed_dominant_hand_list = []\n",
        "speed_secondary_hand_list = []\n",
        "centroid_secondary = (0,0)\n",
        "centroid_dominant = (0,0)\n",
        "speed_dominant = 0\n",
        "speed_secondary = 0\n",
        "position_dominant_hand_xs_list = []\n",
        "position_dominant_hand_ys_list = []\n",
        "position_secondary_hand_xs_list = []\n",
        "position_secondary_hand_ys_list = []\n",
        "frames = []\n",
        "\n",
        "start = time.perf_counter()\n",
        "\n",
        "while True:\n",
        "    # Grab a single frame of video\n",
        "    ret, frame = input_movie.read()\n",
        "    # height, width, number of channels in image\n",
        "    VALID_FRAME = True\n",
        "    try:\n",
        "      height = frame.shape[0]\n",
        "      WIDTH_FRAME = frame.shape[1]\n",
        "      channels = frame.shape[2]\n",
        "    except AttributeError:\n",
        "      VALID_FRAME = False\n",
        "    \n",
        "    # Quit when the input video file ends\n",
        "    if not ret:\n",
        "        break\n",
        "\n",
        "    if  frame_number % FRAME_WINDOW == 0 and VALID_FRAME == True:\n",
        "      end = time.perf_counter()\n",
        "      \n",
        "      # Images\n",
        "      image = frame[:, :, ::-1]\n",
        "      # Inference\n",
        "      imgs = [image]\n",
        "      results = model(imgs, size=416)  # includes NMS\n",
        "      #print(results.xyxy[0].cpu().numpy())\n",
        "      # Results\n",
        "\n",
        "      tensor = results.xyxy[0] \n",
        "      arr_np = tensor.cpu().numpy() \n",
        "      #print(f'Length arr_np: {len(arr_np)}')\n",
        "      if len(arr_np) == 1:\n",
        "        frames.append(frame_number)\n",
        "        time_t = end - start\n",
        "        #print(f'Elapse time: {time_t}')\n",
        "        x1_1, y1_1, x2_1, y2_1 = arr_np[0][0], arr_np[0][1], arr_np[0][2], arr_np[0][3]\n",
        "        #print(f'x1, y1, x2, y2: ({x1_1, y1_1}), ({x2_1, y2_1})')\n",
        "        centroid_dominant = get_centroid(x1_1, y1_1, x2_1, y2_1)\n",
        "        #print(f'centroid (c1,c2): {centroid[0], centroid[1]}')\n",
        "        if len(position_dominant_hand_xs_list) == 0:\n",
        "          speed_dominant = estimate_speed(centroid_dominant, centroid_dominant, time_t, DISTANCE_DEVICE_TO_PERSON, WIDTH_FRAME)\n",
        "        else:\n",
        "          speed_dominant = estimate_speed(centroid_dominant, (position_dominant_hand_xs_list[len(position_dominant_hand_xs_list) - 1], position_dominant_hand_ys_list[len(position_dominant_hand_ys_list) - 1]), time_t, DISTANCE_DEVICE_TO_PERSON, WIDTH_FRAME)\n",
        "        position_dominant_hand_xs_list.append(centroid_dominant[0])\n",
        "        position_dominant_hand_ys_list.append(centroid_dominant[1])\n",
        "        speed_secondary = 0\n",
        "        position_secondary_hand_xs_list.append(0)\n",
        "        position_secondary_hand_ys_list.append(0)\n",
        "        #speed_dominant_hand_list.append(speed)\n",
        "        #print(f'estimated speed: {speed}')\n",
        "      elif len(arr_np) == 2:\n",
        "        frames.append(frame_number)\n",
        "        time_t = end - start\n",
        "        #print(f'Elapse time: {time_t}')\n",
        "        x1_1, y1_1, x2_1, y2_1 = arr_np[0][0], arr_np[0][1], arr_np[0][2], arr_np[0][3]\n",
        "        #print(f'x1_1, y1_1, x2_1, y2_1: ({x1_1, y1_1}), ({x2_1, y2_1})')\n",
        "        centroid_dominant = get_centroid(x1_1, y1_1, x2_1, y2_1)\n",
        "        #print(f'centroid (c1,c2): {centroid[0], centroid[1]}')\n",
        "        if len(position_dominant_hand_xs_list) == 0:\n",
        "          speed_dominant = estimate_speed(centroid_dominant, centroid_dominant, time_t, DISTANCE_DEVICE_TO_PERSON, WIDTH_FRAME)\n",
        "        else:\n",
        "          speed_dominant = estimate_speed(centroid_dominant, (position_dominant_hand_xs_list[len(position_dominant_hand_xs_list) - 1], position_dominant_hand_ys_list[len(position_dominant_hand_ys_list) - 1]), time_t, DISTANCE_DEVICE_TO_PERSON, WIDTH_FRAME)\n",
        "        position_dominant_hand_xs_list.append(centroid_dominant[0])\n",
        "        position_dominant_hand_ys_list.append(centroid_dominant[1])\n",
        "        #speed_dominant_hand_list.append(speed)\n",
        "        #print(f'estimated speed: {speed}')\n",
        "        x1_2, y1_2, x2_2, y2_2 = arr_np[1][0], arr_np[1][1], arr_np[1][2], arr_np[1][3]\n",
        "        centroid_secondary = get_centroid(x1_2, y1_2, x2_2, y2_2)\n",
        "        if len(position_secondary_hand_xs_list) == 0:\n",
        "          speed_secondary = estimate_speed(centroid_secondary, centroid_secondary, time_t, DISTANCE_DEVICE_TO_PERSON, WIDTH_FRAME)\n",
        "        else:\n",
        "          speed_secondary = estimate_speed(centroid_secondary, (position_secondary_hand_xs_list[len(position_secondary_hand_xs_list) - 1], position_secondary_hand_ys_list[len(position_secondary_hand_ys_list) - 1]), time_t, DISTANCE_DEVICE_TO_PERSON, WIDTH_FRAME)\n",
        "        position_secondary_hand_xs_list.append(centroid_secondary[0])\n",
        "        position_secondary_hand_ys_list.append(centroid_secondary[1])\n",
        "        #print(f'x1_1, y1_1, x2_1, y2_1: ({x1_2, y1_2}), ({x2_2, y2_2})')\n",
        "\n",
        "      start = time.perf_counter()\n",
        "\n",
        "      data = [frame_number,centroid_dominant[0],centroid_dominant[1],speed_dominant,\n",
        "              centroid_secondary[0],centroid_secondary[1],speed_secondary]\n",
        "\n",
        "      data_rows_list.append(data)\n",
        "\n",
        "    frame_number += 1\n",
        "\n",
        "rows_list = []\n",
        "for idx in range(len(data_rows_list)):\n",
        "  rows_list.append('row_'+str(idx))\n",
        "\n",
        "cols_list = []\n",
        "for idx in range(len(data_rows_list[0])):\n",
        "  cols_list.append('col_'+str(idx))\n",
        "\n",
        "df1 = pd.DataFrame(data_rows_list,\n",
        "                   index=rows_list)\n",
        "\n",
        "df1.to_excel(\"/content/gdrive/My Drive/Doctorado/your_directory/LIBRAS Data/\"+ str_video +\"_hands_output_17102022.xlsx\")  \n"
      ]
    }
  ],
  "metadata": {
    "accelerator": "GPU",
    "colab": {
      "provenance": []
    },
    "kernelspec": {
      "display_name": "Python 3",
      "name": "python3"
    }
  },
  "nbformat": 4,
  "nbformat_minor": 0
}